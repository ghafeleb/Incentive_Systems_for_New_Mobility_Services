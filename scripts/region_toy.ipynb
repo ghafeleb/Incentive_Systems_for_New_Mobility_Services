{
 "cells": [
  {
   "cell_type": "code",
   "execution_count": 20,
   "metadata": {},
   "outputs": [
    {
     "name": "stdout",
     "output_type": "stream",
     "text": [
      "The autoreload extension is already loaded. To reload it, use:\n",
      "  %reload_ext autoreload\n"
     ]
    }
   ],
   "source": [
    "import sys\n",
    "import platform\n",
    "sys.path.insert(0, '../')\n",
    "%load_ext autoreload\n",
    "%autoreload 2\n",
    "import os\n",
    "from lib.utils import check_exists, run_python, run_matlab, solver_name_to_n_iter\n",
    "import itertools"
   ]
  },
  {
   "cell_type": "code",
   "execution_count": 30,
   "metadata": {},
   "outputs": [],
   "source": [
    "percNonUVal_list = [95]\n",
    "budget_list = [10000]\n",
    "VOT_list = [2.63] \n",
    "solver_list = [\"Gurobi\", \"Mosek\", \"ADMM\"] # ADMM is Algorithm 1\n",
    "config_filename = \"../data/YAML/region_toy.yaml\"\n",
    "nPath = 2\n",
    "n_iter_UE = 5\n",
    "# percNonUVal = 50\n",
    "n_time = 204\n",
    "n_time_inc_start = 13\n",
    "n_time_inc_end = 24\n",
    "step_size_UE = 0.01\n",
    "region_ = \"region_toy\"\n",
    "setting_region = \"5_22_AVG5_th1_pad_MultipleTimes\"\n",
    "fileName0 = \"_StartHour_5_AVG5_pad_theta1e+00\"\n",
    "folderName0 = \"Mar2May_2018_new_5-22_\"\n",
    "fairness = \"0_0_0_100_0\" # Corresponds to RHSMultiplier = [1, 1.1, 1.5, 2, 2.5]\n",
    "n_iter_ADMM = 100\n",
    "seed_ADMM = 2\n",
    "seed_solver = 2\n",
    "seed_data = 2\n",
    "solve_binarization = 1 # For solvers other than Algorithm 1: 1=True, 0=False\n",
    "n_companies_ADMM = 1\n",
    "rho = 20\n",
    "MIPGap = 0.01"
   ]
  },
  {
   "cell_type": "code",
   "execution_count": 26,
   "metadata": {},
   "outputs": [],
   "source": [
    "# n_companies_cost_list = [1, 10, 100, 1000] # Number of companies in cost computation \n",
    "min_n_companies = 1 # The min number of organizations in the cost computation\n",
    "max_n_companies = 10000 # The max number of organizations in the cost computation\n",
    "# We compute the cost of incentivization in two settings. \n",
    "# Setting 1: number of organization is:\n",
    "# range(min_n_companies, step_n_companies, max_n_companies) + {# of drivers OR individual drivers}\n",
    "# Setting 1 is set if factor_n_companies=0. Setting 1 is much more time consuming but more details comapred to setting 2.\n",
    "step_n_companies = 10 \n",
    "# Setting 2: number of organization is:\n",
    "# {min_n_companies, min_n_companies*factor_n_companies, ..., max_n_companies, # of drivers OR individual drivers}\n",
    "# If factor_n_companies=-1, 1,2,3, and 5 companies will be created\n",
    "factor_n_companies = 10\n",
    "# Number of random sampling of drivers to companies and computing cost of incentivization\n",
    "n_sample = 10"
   ]
  },
  {
   "cell_type": "markdown",
   "metadata": {},
   "source": [
    "## create_graph_py2 (Py2)"
   ]
  },
  {
   "cell_type": "code",
   "execution_count": 11,
   "metadata": {},
   "outputs": [
    {
     "name": "stdout",
     "output_type": "stream",
     "text": [
      "Running command:  python2 ../data_creator/createGraphPy2.py --config_filename ../data/YAML/region_toy.yaml --nPath 2\n"
     ]
    }
   ],
   "source": [
    "run_python(py_version = 2, \n",
    "           py_file = \"../data_creator/createGraphPy2.py\", \n",
    "           arg_names = [\"config_filename\", \"nPath\"], \n",
    "           arg_values = [config_filename, nPath])"
   ]
  },
  {
   "cell_type": "markdown",
   "metadata": {},
   "source": [
    "## create_graph_py3 (Py3)"
   ]
  },
  {
   "cell_type": "code",
   "execution_count": 12,
   "metadata": {},
   "outputs": [
    {
     "name": "stdout",
     "output_type": "stream",
     "text": [
      "Running command:  python3 ../data_creator/createGraphPy3.py --config_filename ../data/YAML/region_toy.yaml --nPath 2\n"
     ]
    }
   ],
   "source": [
    "run_python(py_version = 3, \n",
    "           py_file = \"../data_creator/createGraphPy3.py\", \n",
    "           arg_names = [\"config_filename\", \"nPath\"], \n",
    "           arg_values = [config_filename, nPath])"
   ]
  },
  {
   "cell_type": "markdown",
   "metadata": {},
   "source": [
    "## DataCreator1 (Py3)"
   ]
  },
  {
   "cell_type": "code",
   "execution_count": 13,
   "metadata": {
    "scrolled": true
   },
   "outputs": [
    {
     "name": "stdout",
     "output_type": "stream",
     "text": [
      "Running command:  python3 ../data_creator/DataCreator1.py --config_filename ../data/YAML/region_toy.yaml\n"
     ]
    }
   ],
   "source": [
    "run_python(py_version = 3, \n",
    "    py_file = \"../data_creator/DataCreator1.py\", \n",
    "    arg_names = [\"config_filename\"], \n",
    "    arg_values = [config_filename],\n",
    "    )"
   ]
  },
  {
   "cell_type": "markdown",
   "metadata": {},
   "source": [
    "## HistoricalData (Py2)"
   ]
  },
  {
   "cell_type": "code",
   "execution_count": 14,
   "metadata": {},
   "outputs": [
    {
     "name": "stdout",
     "output_type": "stream",
     "text": [
      "Running command:  python2 ../data_creator/HistoricalData.py --config_filename ../data/YAML/region_toy.yaml\n"
     ]
    }
   ],
   "source": [
    "run_python(py_version = 2, \n",
    "    py_file = \"../data_creator/HistoricalData.py\", \n",
    "    arg_names = [\"config_filename\"], \n",
    "    arg_values = [config_filename],\n",
    "    )"
   ]
  },
  {
   "cell_type": "markdown",
   "metadata": {},
   "source": [
    "## 1. DataLoader_Det (MATLAB) 2. runDet (Py2) 3. DataCreator2 (Py3)"
   ]
  },
  {
   "cell_type": "code",
   "execution_count": 15,
   "metadata": {
    "scrolled": true
   },
   "outputs": [
    {
     "name": "stdout",
     "output_type": "stream",
     "text": [
      "Running command:  try;addpath('../data_creator/');DataLoader_Det(0,204,13,24,2,0.01,'region_toy','5_22_AVG5_th1_pad_MultipleTimes','_StartHour_5_AVG5_pad_theta1e+00','Mar2May_2018_new_5-22_');catch;end;quit\n",
      "Running command:  python2 ../data_creator/runDet.py --config_filename ../data/YAML/region_toy.yaml --sD 2 --iterRun 0 --initEta -1\n",
      "Running command:  python3 ../data_creator/DataCreator2.py --config_filename ../data/YAML/region_toy.yaml --sD 2 --iterRun 0 --initEta -1\n",
      "Running command:  try;addpath('../data_creator/');DataLoader_Det(1,204,13,24,2,0.01,'region_toy','5_22_AVG5_th1_pad_MultipleTimes','_StartHour_5_AVG5_pad_theta1e+00','Mar2May_2018_new_5-22_');catch;end;quit\n",
      "Running command:  python2 ../data_creator/runDet.py --config_filename ../data/YAML/region_toy.yaml --sD 2 --iterRun 1 --initEta -1\n",
      "Running command:  python3 ../data_creator/DataCreator2.py --config_filename ../data/YAML/region_toy.yaml --sD 2 --iterRun 1 --initEta -1\n",
      "Running command:  try;addpath('../data_creator/');DataLoader_Det(2,204,13,24,2,0.01,'region_toy','5_22_AVG5_th1_pad_MultipleTimes','_StartHour_5_AVG5_pad_theta1e+00','Mar2May_2018_new_5-22_');catch;end;quit\n",
      "Running command:  python2 ../data_creator/runDet.py --config_filename ../data/YAML/region_toy.yaml --sD 2 --iterRun 2 --initEta -1\n",
      "Running command:  python3 ../data_creator/DataCreator2.py --config_filename ../data/YAML/region_toy.yaml --sD 2 --iterRun 2 --initEta -1\n",
      "Running command:  try;addpath('../data_creator/');DataLoader_Det(3,204,13,24,2,0.01,'region_toy','5_22_AVG5_th1_pad_MultipleTimes','_StartHour_5_AVG5_pad_theta1e+00','Mar2May_2018_new_5-22_');catch;end;quit\n",
      "Running command:  python2 ../data_creator/runDet.py --config_filename ../data/YAML/region_toy.yaml --sD 2 --iterRun 3 --initEta -1\n",
      "Running command:  python3 ../data_creator/DataCreator2.py --config_filename ../data/YAML/region_toy.yaml --sD 2 --iterRun 3 --initEta -1\n",
      "Running command:  try;addpath('../data_creator/');DataLoader_Det(4,204,13,24,2,0.01,'region_toy','5_22_AVG5_th1_pad_MultipleTimes','_StartHour_5_AVG5_pad_theta1e+00','Mar2May_2018_new_5-22_');catch;end;quit\n",
      "Running command:  python2 ../data_creator/runDet.py --config_filename ../data/YAML/region_toy.yaml --sD 2 --iterRun 4 --initEta -1\n",
      "Running command:  python3 ../data_creator/DataCreator2.py --config_filename ../data/YAML/region_toy.yaml --sD 2 --iterRun 4 --initEta -1\n"
     ]
    }
   ],
   "source": [
    "for i in range(n_iter_UE):\n",
    "    DataLoader_Det_input_list = [i, \\\n",
    "                                 n_time, \\\n",
    "                                 n_time_inc_start, \\\n",
    "                                 n_time_inc_end, \\\n",
    "                                 seed_data, \\\n",
    "                                 step_size_UE, \\\n",
    "                                 region_, \\\n",
    "                                 setting_region, \\\n",
    "                                 fileName0, \\\n",
    "                                 folderName0]\n",
    "    run_matlab(matlab_function = \"addpath('../data_creator/');DataLoader_Det\", \n",
    "                matlab_input_list = DataLoader_Det_input_list, \n",
    "                nojvm = False,\n",
    "              )\n",
    "    \n",
    "    run_python(py_version = 2, \n",
    "               py_file = \"../data_creator/runDet.py\", \n",
    "               arg_names = [\"config_filename\", \\\n",
    "                            \"sD\", \\\n",
    "                            \"iterRun\", \\\n",
    "                            \"initEta\"], \n",
    "               arg_values = [config_filename, \\\n",
    "                             seed_data, \\\n",
    "                             i, \\\n",
    "                             -1],\n",
    "              )\n",
    "    \n",
    "    run_python(py_version = 3, \n",
    "               py_file = \"../data_creator/DataCreator2.py\", \n",
    "               arg_names = [\"config_filename\", \\\n",
    "                            \"sD\", \\\n",
    "                            \"iterRun\", \\\n",
    "                            \"initEta\"], \n",
    "               arg_values = [config_filename, \\\n",
    "                             seed_data, \\\n",
    "                             i, \\\n",
    "                             -1])"
   ]
  },
  {
   "cell_type": "markdown",
   "metadata": {},
   "source": [
    "## initEta_prestep (MATLAB)"
   ]
  },
  {
   "cell_type": "code",
   "execution_count": 16,
   "metadata": {},
   "outputs": [
    {
     "name": "stdout",
     "output_type": "stream",
     "text": [
      "Running command:  try;addpath('../data_creator/');initEta_prestep(5,204,13,24,2,0.01,'region_toy','5_22_AVG5_th1_pad_MultipleTimes','_StartHour_5_AVG5_pad_theta1e+00','Mar2May_2018_new_5-22_');catch;end;quit\n"
     ]
    }
   ],
   "source": [
    "# (n_companies, iterRun, nonuser_perc_prob0, n_time, n_time_inc_start, n_time_inc_end, ...\n",
    "#     step_size, region_, setting_region, fileName0, folderName0)\n",
    "initEta_prestep_input_list = [n_iter_UE, \\\n",
    "                              n_time, \\\n",
    "                              n_time_inc_start, \\\n",
    "                              n_time_inc_end, \\\n",
    "                              seed_data, \\\n",
    "                              step_size_UE, \\\n",
    "                              region_, \\\n",
    "                              setting_region, \\\n",
    "                              fileName0, \\\n",
    "                              folderName0]\n",
    "run_matlab(matlab_function = \"addpath('../data_creator/');initEta_prestep\", \n",
    "            matlab_input_list = initEta_prestep_input_list, \n",
    "            nojvm = False,\n",
    "        )"
   ]
  },
  {
   "cell_type": "markdown",
   "metadata": {},
   "source": [
    "## runDet (Py2)"
   ]
  },
  {
   "cell_type": "code",
   "execution_count": 17,
   "metadata": {},
   "outputs": [
    {
     "name": "stdout",
     "output_type": "stream",
     "text": [
      "Running command:  python2 ../data_creator/runDet.py --config_filename ../data/YAML/region_toy.yaml --sD 2 --iterRun 5 --initEta 1\n"
     ]
    }
   ],
   "source": [
    "run_python(py_version = 2, \n",
    "           py_file = \"../data_creator/runDet.py\", \n",
    "           arg_names = [\"config_filename\", \\\n",
    "                        \"sD\", \\\n",
    "                        \"iterRun\", \\\n",
    "                        \"initEta\"], \n",
    "           arg_values = [config_filename, \\\n",
    "                         seed_data, \\\n",
    "                         n_iter_UE, \\\n",
    "                         1],\n",
    "          )"
   ]
  },
  {
   "cell_type": "markdown",
   "metadata": {},
   "source": [
    "## DataCreator2 (Py3)"
   ]
  },
  {
   "cell_type": "code",
   "execution_count": 18,
   "metadata": {},
   "outputs": [
    {
     "name": "stdout",
     "output_type": "stream",
     "text": [
      "Running command:  python3 ../data_creator/DataCreator2.py --config_filename ../data/YAML/region_toy.yaml --sD 2 --iterRun 5 --initEta 1\n"
     ]
    }
   ],
   "source": [
    "run_python(py_version = 3, \n",
    "           py_file = \"../data_creator/DataCreator2.py\", \n",
    "           arg_names = [\"config_filename\", \\\n",
    "                        \"sD\", \\\n",
    "                        \"iterRun\", \\\n",
    "                        \"initEta\"], \n",
    "           arg_values = [config_filename, \\\n",
    "                         seed_data, \\\n",
    "                         n_iter_UE, \\\n",
    "                         1])"
   ]
  },
  {
   "cell_type": "markdown",
   "metadata": {},
   "source": [
    "## Solving the Problem (MATLAB)"
   ]
  },
  {
   "cell_type": "code",
   "execution_count": 32,
   "metadata": {},
   "outputs": [
    {
     "name": "stdout",
     "output_type": "stream",
     "text": [
      "Running command:  try;addpath('../incentivization/');solver_incentivization('Gurobi',0.01,1,204,13,24,2,2,95,10000,2.63,'0_0_0_100_0',5,0.01,'region_toy','5_22_AVG5_th1_pad_MultipleTimes','_StartHour_5_AVG5_pad_theta1e+00','Mar2May_2018_new_5-22_');catch;end;quit\n",
      "Running command:  try;addpath('../incentivization/');solver_incentivization('Mosek',0.01,1,204,13,24,2,2,95,10000,2.63,'0_0_0_100_0',5,0.01,'region_toy','5_22_AVG5_th1_pad_MultipleTimes','_StartHour_5_AVG5_pad_theta1e+00','Mar2May_2018_new_5-22_');catch;end;quit\n",
      "Running command:  try;addpath('../incentivization/');ADMM(5,95,10000,100,204,13,24,2.63,2,2,20,'0_0_0_100_0',0.01,'region_toy','5_22_AVG5_th1_pad_MultipleTimes','_StartHour_5_AVG5_pad_theta1e+00','Mar2May_2018_new_5-22_');catch;end;quit\n",
      "Running command:  try;addpath('../incentivization/');ILP(5,95,10000,100,204,13,24,2.63,2,2,20,'0_0_0_100_0',0.01,'region_toy','5_22_AVG5_th1_pad_MultipleTimes',0.01);catch;end;quit\n"
     ]
    }
   ],
   "source": [
    "for percNonUVal, VOT, solver_name, budget in itertools.product(percNonUVal_list, VOT_list, solver_list, budget_list):\n",
    "    n_iter_algo = n_iter_ADMM if solver_name == \"ADMM\" else solver_name_to_n_iter(solver_name)\n",
    "    if solver_name == \"ADMM\":\n",
    "        # Run Algorithm 1\n",
    "        ADMM_input_list = [n_iter_UE, \\\n",
    "                           percNonUVal, \\\n",
    "                           budget, \\\n",
    "                           n_iter_algo, \\\n",
    "                           n_time, \\\n",
    "                           n_time_inc_start, \\\n",
    "                           n_time_inc_end, \\\n",
    "                           VOT, \\\n",
    "                           seed_ADMM, \\\n",
    "                           seed_data, \\\n",
    "                           rho, \\\n",
    "                           fairness, \\\n",
    "                           step_size_UE, \\\n",
    "                           region_, \\\n",
    "                           setting_region, \\\n",
    "                           fileName0, \\\n",
    "                           folderName0, \\\n",
    "                          ]\n",
    "        run_matlab(matlab_function = \"addpath('../incentivization/');ADMM\", \n",
    "                    matlab_input_list = ADMM_input_list, \n",
    "                    nojvm = True,\n",
    "            )\n",
    "\n",
    "        # Find binary solution to the provided solution by Algorithm 1 \n",
    "        ILP_input_list = [n_iter_UE, \\\n",
    "                           percNonUVal, \\\n",
    "                           budget, \\\n",
    "                           n_iter_algo, \\\n",
    "                           n_time, \\\n",
    "                           n_time_inc_start, \\\n",
    "                           n_time_inc_end, \\\n",
    "                           VOT, \\\n",
    "                           seed_ADMM, \\\n",
    "                           seed_data, \\\n",
    "                           rho, \\\n",
    "                           fairness, \\\n",
    "                           step_size_UE, \\\n",
    "                           region_, \\\n",
    "                           setting_region, \\\n",
    "                           MIPGap, \\\n",
    "                          ]\n",
    "        run_matlab(matlab_function = \"addpath('../incentivization/');ILP\", \n",
    "                    matlab_input_list = ILP_input_list, \n",
    "                    nojvm = True,\n",
    "            )\n",
    "    else:\n",
    "        # Solve the MIP optimization problem directly using a solver\n",
    "        solver_input_list = [solver_name, \\\n",
    "                             MIPGap, \\\n",
    "                             solve_binarization, \\\n",
    "                               n_time, \\\n",
    "                               n_time_inc_start, \\\n",
    "                               n_time_inc_end, \\\n",
    "                               seed_data, \\\n",
    "                               seed_solver, \\\n",
    "                               percNonUVal, \\\n",
    "                               budget, \\\n",
    "                               VOT, \\\n",
    "                               fairness, \\\n",
    "                               n_iter_UE, \\\n",
    "                               step_size_UE, \\\n",
    "                               region_, \\\n",
    "                               setting_region, \\\n",
    "                               fileName0, \\\n",
    "                               folderName0]\n",
    "        run_matlab(matlab_function = \"addpath('../incentivization/');solver_incentivization\", \n",
    "                    matlab_input_list = solver_input_list, \n",
    "                    nojvm = True,\n",
    "                )\n"
   ]
  },
  {
   "cell_type": "markdown",
   "metadata": {},
   "source": [
    "## getSV_realCost (MATLAB)"
   ]
  },
  {
   "cell_type": "code",
   "execution_count": 33,
   "metadata": {},
   "outputs": [
    {
     "name": "stdout",
     "output_type": "stream",
     "text": [
      "Running command:  try;addpath('../incentivization/');getSV_realCost(5,95,10000,1,-1,204,13,24,'0_0_0_100_0',2.63,2,2,20,0.01,'region_toy','5_22_AVG5_th1_pad_MultipleTimes',0.01);catch;end;quit\n",
      "Running command:  try;addpath('../incentivization/');getSV_realCost(5,95,10000,1,-2,204,13,24,'0_0_0_100_0',2.63,2,2,20,0.01,'region_toy','5_22_AVG5_th1_pad_MultipleTimes',0.01);catch;end;quit\n",
      "Running command:  try;addpath('../incentivization/');getSV_realCost(5,95,10000,1,100,204,13,24,'0_0_0_100_0',2.63,2,2,20,0.01,'region_toy','5_22_AVG5_th1_pad_MultipleTimes',0.01);catch;end;quit\n"
     ]
    }
   ],
   "source": [
    "for percNonUVal, VOT, solver_name, budget in itertools.product(percNonUVal_list, VOT_list, solver_list, budget_list):\n",
    "    n_iter_algo = n_iter_ADMM if solver_name == \"ADMM\" else solver_name_to_n_iter(solver_name)\n",
    "    # Get the volume and speed based on the post-incentivization traffic\n",
    "    getSV_realCost_input_list = [n_iter_UE, \\\n",
    "                                 percNonUVal, \\\n",
    "                                 budget, \\\n",
    "                                 n_companies_ADMM, \\\n",
    "                                 n_iter_algo, \\\n",
    "                                 n_time, \\\n",
    "                                 n_time_inc_start, \\\n",
    "                                 n_time_inc_end, \\\n",
    "                                 fairness, \\\n",
    "                                 VOT, \\\n",
    "                                 seed_ADMM, \\\n",
    "                                 seed_data, \\\n",
    "                                 rho, \\\n",
    "                                 step_size_UE,\\\n",
    "                                 region_, \\\n",
    "                                 setting_region, \\\n",
    "                                 MIPGap, ]\n",
    "    run_matlab(matlab_function = \"addpath('../incentivization/');getSV_realCost\", \n",
    "                matlab_input_list = getSV_realCost_input_list, \n",
    "                nojvm = False,\n",
    "            )"
   ]
  },
  {
   "cell_type": "markdown",
   "metadata": {},
   "source": [
    "## run_realCost (Py2)"
   ]
  },
  {
   "cell_type": "code",
   "execution_count": 34,
   "metadata": {},
   "outputs": [
    {
     "name": "stdout",
     "output_type": "stream",
     "text": [
      "Running command:  python2 ../incentivization/run_realCost.py --config_filename ../data/YAML/region_toy.yaml --sA 2 --sD 2 --nC 1 --f 0_0_0_100_0 --percNonU 95 --iterRun 5 --b 10000 --VOT 2.63 --nTIS 13 --nTIE 24 --it -1 --MIPGap 0.01\n",
      "Running command:  python2 ../incentivization/run_realCost.py --config_filename ../data/YAML/region_toy.yaml --sA 2 --sD 2 --nC 1 --f 0_0_0_100_0 --percNonU 95 --iterRun 5 --b 10000 --VOT 2.63 --nTIS 13 --nTIE 24 --it -2 --MIPGap 0.01\n",
      "Running command:  python2 ../incentivization/run_realCost.py --config_filename ../data/YAML/region_toy.yaml --sA 2 --sD 2 --nC 1 --f 0_0_0_100_0 --percNonU 95 --iterRun 5 --b 10000 --VOT 2.63 --nTIS 13 --nTIE 24 --it 100 --MIPGap 0.01\n"
     ]
    }
   ],
   "source": [
    "for percNonUVal, VOT, solver_name, budget in itertools.product(percNonUVal_list, VOT_list, solver_list, budget_list):\n",
    "    n_iter_algo = n_iter_ADMM if solver_name == \"ADMM\" else solver_name_to_n_iter(solver_name)\n",
    "    # Compute the R matrix and other info based on new speed and volume\n",
    "    run_python(py_version = 2, \n",
    "               py_file = \"../incentivization/run_realCost.py\", \n",
    "               arg_names = [\"config_filename\", \\\n",
    "                            \"sA\", \\\n",
    "                            \"sD\", \\\n",
    "                            \"nC\", \\\n",
    "                            \"f\", \\\n",
    "                            \"percNonU\", \\\n",
    "                            \"iterRun\", \\\n",
    "                            \"b\", \\\n",
    "                            \"VOT\", \\\n",
    "                            \"nTIS\", \\\n",
    "                            \"nTIE\", \\\n",
    "                            \"it\", \\\n",
    "                            \"MIPGap\", \\\n",
    "                           ], \n",
    "               arg_values = [config_filename, \\\n",
    "                             seed_ADMM, \\\n",
    "                             seed_data, \\\n",
    "                             n_companies_ADMM, \\\n",
    "                             fairness, \\\n",
    "                             percNonUVal, \\\n",
    "                             n_iter_UE, \\\n",
    "                             budget, \\\n",
    "                             VOT, \\\n",
    "                             n_time_inc_start, \\\n",
    "                             n_time_inc_end, \\\n",
    "                             n_iter_algo, \\\n",
    "                             MIPGap, \\\n",
    "                            ],\n",
    "              )"
   ]
  },
  {
   "cell_type": "markdown",
   "metadata": {},
   "source": [
    "## compareCosts_realCost_initAll2 (MATLAB)"
   ]
  },
  {
   "cell_type": "code",
   "execution_count": 35,
   "metadata": {},
   "outputs": [
    {
     "name": "stdout",
     "output_type": "stream",
     "text": [
      "Running command:  try;addpath('../incentivization/');compareCosts_realCost_initAll2_allInOne(5,95,10000,1,-1,1,10000,10,10,10,204,13,24,'0_0_0_100_0',2.63,2,2,20,0.01,'region_toy','5_22_AVG5_th1_pad_MultipleTimes',0.01);catch;end;quit\n",
      "Running command:  try;addpath('../incentivization/');compareCosts_realCost_initAll2_allInOne(5,95,10000,1,-2,1,10000,10,10,10,204,13,24,'0_0_0_100_0',2.63,2,2,20,0.01,'region_toy','5_22_AVG5_th1_pad_MultipleTimes',0.01);catch;end;quit\n",
      "Running command:  try;addpath('../incentivization/');compareCosts_realCost_initAll2_allInOne(5,95,10000,1,100,1,10000,10,10,10,204,13,24,'0_0_0_100_0',2.63,2,2,20,0.01,'region_toy','5_22_AVG5_th1_pad_MultipleTimes',0.01);catch;end;quit\n"
     ]
    }
   ],
   "source": [
    "for percNonUVal, VOT, solver_name, budget in itertools.product(percNonUVal_list, VOT_list, solver_list, budget_list):\n",
    "    n_iter_algo = n_iter_ADMM if solver_name == \"ADMM\" else solver_name_to_n_iter(solver_name)\n",
    "    # Compute the incentivization cost\n",
    "    compareCosts_realCost_initAll2_input_list = [n_iter_UE, \\\n",
    "                                                 percNonUVal, \\\n",
    "                                                 budget, \\\n",
    "                                                 n_companies_ADMM, \\\n",
    "                                                 n_iter_algo, \\\n",
    "                                                 min_n_companies, \\\n",
    "                                                 max_n_companies, \\\n",
    "                                                 step_n_companies, \\\n",
    "                                                 factor_n_companies, \\\n",
    "                                                 # Number of samples of cost computation, randomness is in selecting companies' drivers\n",
    "                                                 n_sample, \\\n",
    "                                                 n_time, \\\n",
    "                                                 n_time_inc_start, \\\n",
    "                                                 n_time_inc_end, \\\n",
    "                                                 fairness, \\\n",
    "                                                 VOT, \\\n",
    "                                                 seed_ADMM, \\\n",
    "                                                 seed_data, \\\n",
    "                                                 rho, \\\n",
    "                                                 step_size_UE,\\\n",
    "                                                 region_, \\\n",
    "                                                 setting_region, \\\n",
    "                                                 MIPGap, \\\n",
    "                                                ]\n",
    "    run_matlab(matlab_function = \"addpath('../incentivization/');compareCosts_realCost_initAll2_allInOne\", \n",
    "                matlab_input_list = compareCosts_realCost_initAll2_input_list, \n",
    "                nojvm = True,\n",
    "            )"
   ]
  },
  {
   "cell_type": "code",
   "execution_count": null,
   "metadata": {},
   "outputs": [],
   "source": []
  }
 ],
 "metadata": {
  "kernelspec": {
   "display_name": "Python 3",
   "language": "python",
   "name": "python3"
  },
  "language_info": {
   "codemirror_mode": {
    "name": "ipython",
    "version": 3
   },
   "file_extension": ".py",
   "mimetype": "text/x-python",
   "name": "python",
   "nbconvert_exporter": "python",
   "pygments_lexer": "ipython3",
   "version": "3.8.3"
  }
 },
 "nbformat": 4,
 "nbformat_minor": 4
}

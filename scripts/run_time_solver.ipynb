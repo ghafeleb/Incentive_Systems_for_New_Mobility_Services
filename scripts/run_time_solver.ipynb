{
 "cells": [
  {
   "cell_type": "code",
   "execution_count": 1,
   "metadata": {},
   "outputs": [],
   "source": [
    "import sys\n",
    "sys.path.insert(0, '../')\n",
    "%load_ext autoreload\n",
    "%autoreload 2\n",
    "from lib.utils import *\n",
    "import itertools\n",
    "import pandas as pd\n",
    "from lib.plot import plot_execution_time_comparison"
   ]
  },
  {
   "cell_type": "code",
   "execution_count": 2,
   "metadata": {},
   "outputs": [],
   "source": [
    "config_filename = \"../data/YAML/region_y3_div.yaml\"\n",
    "n_iter_UE = 250\n",
    "# percNonUVal = 80\n",
    "n_time = 36\n",
    "n_time_inc_start = 13\n",
    "n_time_inc_end = 24\n",
    "step_size_UE = 0.01\n",
    "region_ = \"region_y3_div\"\n",
    "setting_region = \"6_9_AVG5_th1_pad_MultipleTimes\"\n",
    "fileName0 = \"_StartHour_6_AVG5_pad_theta1e+00\"\n",
    "folderName0 = \"Mar2May_2018_new_5-22_\"\n",
    "fairness = \"0_0_0_100_0\" # Corresponds to RHSMultiplier = [1, 1.1, 1.5, 2, 2.5]\n",
    "n_iter_ADMM = 15000\n",
    "n_companies_ADMM = 1\n",
    "n_companies_cost_list = [1, 10, 100, 1000]\n",
    "rho = 20\n",
    "# rho_list = [20]\n",
    "percNonUVal_list = [80, 85, 90, 95]\n",
    "budget_list = [10000, 2000, 800, 200] # [10000, 5000, 2000, 1000, 800, 500, 200, 100]\n",
    "VOT_list = [2.63, 1.315] # [2.63, 1.315]\n",
    "solver_list = [\"Gurobi\", \"Mosek\"] # [\"ADMM\", \"Gurobi\", \"Mosek\"]\n",
    "# solver_list = [\"Mosek\"]\n",
    "solve_binarization = 1 # 1=True, 0=False\n",
    "seed_solver = 2\n",
    "seed_ADMM = 2\n",
    "seed_data = 2\n",
    "MIPGap = 0.01\n",
    "# skip_set = {(20, 70, 10000, 2.63), (20, 70, 10000, 1.315)}\n",
    "# skip_set = {(20, 70, 1000, 2.63), (20, 70, 1000, 1.315), (20, 70, 100, 2.63), (20, 70, 100, 1.315)}\n",
    "skip_set = {}"
   ]
  },
  {
   "cell_type": "code",
   "execution_count": 3,
   "metadata": {},
   "outputs": [],
   "source": [
    "time_dict = {}\n",
    "colsDict = {\"solver_name\": [], \"percNonUVal\": [], \"VOT\": [], \"budget\": [], \"runtime\": []}\n",
    "for solver_name, percNonUVal, VOT, budget in itertools.product(solver_list, percNonUVal_list, VOT_list, budget_list):\n",
    "    seed_solving_algo = seed_ADMM if solver_name == \"ADMM\" else seed_solver\n",
    "    \n",
    "    colsDict[\"solver_name\"].append(solver_name)\n",
    "    colsDict[\"percNonUVal\"].append(percNonUVal)\n",
    "    colsDict[\"VOT\"].append(VOT)\n",
    "    colsDict[\"budget\"].append(budget)\n",
    "    # Get .mat file address \n",
    "    folderAddress = get_solution_result_folder_address(budget = budget, \\\n",
    "                                             seed_data = seed_data, \n",
    "                                             seed_solving_algo = seed_solving_algo,\n",
    "                                             VOT = VOT,\n",
    "                                             fairness = fairness,\n",
    "                                             percNonUVal = percNonUVal,\n",
    "                                             n_time_inc_start = n_time_inc_start,\n",
    "                                             n_time_inc_end = n_time_inc_end,\n",
    "                                             step_size = step_size_UE,\n",
    "                                             iterRun = n_iter_UE,\n",
    "                                             region_ = region_,\n",
    "                                             setting_region = setting_region,\n",
    "                                             solver_name = solver_name,\n",
    "                                             n_iter_ADMM = n_iter_ADMM, \n",
    "                                             rho = rho,\n",
    "                                            )\n",
    "    fileAddress = os.path.join(folderAddress, \"runtimes.csv\")\n",
    "    time_records = pd.read_csv(fileAddress, header = None)\n",
    "    colsDict[\"runtime\"].append(time_records.iloc[-1, 0])"
   ]
  },
  {
   "cell_type": "code",
   "execution_count": 4,
   "metadata": {},
   "outputs": [],
   "source": [
    "runtime_df = pd.DataFrame.from_dict(colsDict)"
   ]
  },
  {
   "cell_type": "code",
   "execution_count": 5,
   "metadata": {},
   "outputs": [],
   "source": [
    "runtime_ADMM = {95: 0.69, 90: 1.19, 85: 1.27, 80: 2.29}\n",
    "runtime_solvers = {}\n",
    "runtime_comparison = {}"
   ]
  },
  {
   "cell_type": "markdown",
   "metadata": {},
   "source": [
    "## 20% Penetration Rate "
   ]
  },
  {
   "cell_type": "code",
   "execution_count": 6,
   "metadata": {},
   "outputs": [
    {
     "data": {
      "text/html": [
       "<div>\n",
       "<style scoped>\n",
       "    .dataframe tbody tr th:only-of-type {\n",
       "        vertical-align: middle;\n",
       "    }\n",
       "\n",
       "    .dataframe tbody tr th {\n",
       "        vertical-align: top;\n",
       "    }\n",
       "\n",
       "    .dataframe thead tr th {\n",
       "        text-align: left;\n",
       "    }\n",
       "\n",
       "    .dataframe thead tr:last-of-type th {\n",
       "        text-align: right;\n",
       "    }\n",
       "</style>\n",
       "<table border=\"1\" class=\"dataframe\">\n",
       "  <thead>\n",
       "    <tr>\n",
       "      <th></th>\n",
       "      <th></th>\n",
       "      <th colspan=\"3\" halign=\"left\">runtime</th>\n",
       "    </tr>\n",
       "    <tr>\n",
       "      <th></th>\n",
       "      <th></th>\n",
       "      <th>mean</th>\n",
       "      <th>min</th>\n",
       "      <th>max</th>\n",
       "    </tr>\n",
       "    <tr>\n",
       "      <th>solver_name</th>\n",
       "      <th>percNonUVal</th>\n",
       "      <th></th>\n",
       "      <th></th>\n",
       "      <th></th>\n",
       "    </tr>\n",
       "  </thead>\n",
       "  <tbody>\n",
       "    <tr>\n",
       "      <th>Gurobi</th>\n",
       "      <th>80</th>\n",
       "      <td>26.712798</td>\n",
       "      <td>9.711559</td>\n",
       "      <td>44.702062</td>\n",
       "    </tr>\n",
       "    <tr>\n",
       "      <th>Mosek</th>\n",
       "      <th>80</th>\n",
       "      <td>250.148957</td>\n",
       "      <td>36.383463</td>\n",
       "      <td>486.175701</td>\n",
       "    </tr>\n",
       "  </tbody>\n",
       "</table>\n",
       "</div>"
      ],
      "text/plain": [
       "                            runtime                       \n",
       "                               mean        min         max\n",
       "solver_name percNonUVal                                   \n",
       "Gurobi      80            26.712798   9.711559   44.702062\n",
       "Mosek       80           250.148957  36.383463  486.175701"
      ]
     },
     "execution_count": 6,
     "metadata": {},
     "output_type": "execute_result"
    }
   ],
   "source": [
    "runtime_solvers[80] = runtime_df[runtime_df['percNonUVal']==80].groupby(['solver_name', 'percNonUVal']).agg({'runtime': ['mean', 'min', 'max']})\n",
    "runtime_solvers[80]"
   ]
  },
  {
   "cell_type": "code",
   "execution_count": 7,
   "metadata": {
    "scrolled": true
   },
   "outputs": [
    {
     "data": {
      "text/html": [
       "<div>\n",
       "<style scoped>\n",
       "    .dataframe tbody tr th:only-of-type {\n",
       "        vertical-align: middle;\n",
       "    }\n",
       "\n",
       "    .dataframe tbody tr th {\n",
       "        vertical-align: top;\n",
       "    }\n",
       "\n",
       "    .dataframe thead tr th {\n",
       "        text-align: left;\n",
       "    }\n",
       "\n",
       "    .dataframe thead tr:last-of-type th {\n",
       "        text-align: right;\n",
       "    }\n",
       "</style>\n",
       "<table border=\"1\" class=\"dataframe\">\n",
       "  <thead>\n",
       "    <tr>\n",
       "      <th></th>\n",
       "      <th></th>\n",
       "      <th colspan=\"3\" halign=\"left\">runtime</th>\n",
       "    </tr>\n",
       "    <tr>\n",
       "      <th></th>\n",
       "      <th></th>\n",
       "      <th>mean</th>\n",
       "      <th>min</th>\n",
       "      <th>max</th>\n",
       "    </tr>\n",
       "    <tr>\n",
       "      <th>solver_name</th>\n",
       "      <th>percNonUVal</th>\n",
       "      <th></th>\n",
       "      <th></th>\n",
       "      <th></th>\n",
       "    </tr>\n",
       "  </thead>\n",
       "  <tbody>\n",
       "    <tr>\n",
       "      <th>Gurobi</th>\n",
       "      <th>80</th>\n",
       "      <td>11.664977</td>\n",
       "      <td>4.240855</td>\n",
       "      <td>19.520551</td>\n",
       "    </tr>\n",
       "    <tr>\n",
       "      <th>Mosek</th>\n",
       "      <th>80</th>\n",
       "      <td>109.235352</td>\n",
       "      <td>15.887975</td>\n",
       "      <td>212.303800</td>\n",
       "    </tr>\n",
       "  </tbody>\n",
       "</table>\n",
       "</div>"
      ],
      "text/plain": [
       "                            runtime                       \n",
       "                               mean        min         max\n",
       "solver_name percNonUVal                                   \n",
       "Gurobi      80            11.664977   4.240855   19.520551\n",
       "Mosek       80           109.235352  15.887975  212.303800"
      ]
     },
     "execution_count": 7,
     "metadata": {},
     "output_type": "execute_result"
    }
   ],
   "source": [
    "runtime_comparison[80] = runtime_solvers[80]/runtime_ADMM[80]\n",
    "runtime_comparison[80]"
   ]
  },
  {
   "cell_type": "markdown",
   "metadata": {},
   "source": [
    "## 15% Penetration Rate "
   ]
  },
  {
   "cell_type": "code",
   "execution_count": 8,
   "metadata": {
    "scrolled": false
   },
   "outputs": [
    {
     "data": {
      "text/html": [
       "<div>\n",
       "<style scoped>\n",
       "    .dataframe tbody tr th:only-of-type {\n",
       "        vertical-align: middle;\n",
       "    }\n",
       "\n",
       "    .dataframe tbody tr th {\n",
       "        vertical-align: top;\n",
       "    }\n",
       "\n",
       "    .dataframe thead tr th {\n",
       "        text-align: left;\n",
       "    }\n",
       "\n",
       "    .dataframe thead tr:last-of-type th {\n",
       "        text-align: right;\n",
       "    }\n",
       "</style>\n",
       "<table border=\"1\" class=\"dataframe\">\n",
       "  <thead>\n",
       "    <tr>\n",
       "      <th></th>\n",
       "      <th></th>\n",
       "      <th colspan=\"3\" halign=\"left\">runtime</th>\n",
       "    </tr>\n",
       "    <tr>\n",
       "      <th></th>\n",
       "      <th></th>\n",
       "      <th>mean</th>\n",
       "      <th>min</th>\n",
       "      <th>max</th>\n",
       "    </tr>\n",
       "    <tr>\n",
       "      <th>solver_name</th>\n",
       "      <th>percNonUVal</th>\n",
       "      <th></th>\n",
       "      <th></th>\n",
       "      <th></th>\n",
       "    </tr>\n",
       "  </thead>\n",
       "  <tbody>\n",
       "    <tr>\n",
       "      <th>Gurobi</th>\n",
       "      <th>85</th>\n",
       "      <td>8.559223</td>\n",
       "      <td>1.707396</td>\n",
       "      <td>13.356177</td>\n",
       "    </tr>\n",
       "    <tr>\n",
       "      <th>Mosek</th>\n",
       "      <th>85</th>\n",
       "      <td>151.892630</td>\n",
       "      <td>15.905964</td>\n",
       "      <td>244.790829</td>\n",
       "    </tr>\n",
       "  </tbody>\n",
       "</table>\n",
       "</div>"
      ],
      "text/plain": [
       "                            runtime                       \n",
       "                               mean        min         max\n",
       "solver_name percNonUVal                                   \n",
       "Gurobi      85             8.559223   1.707396   13.356177\n",
       "Mosek       85           151.892630  15.905964  244.790829"
      ]
     },
     "execution_count": 8,
     "metadata": {},
     "output_type": "execute_result"
    }
   ],
   "source": [
    "runtime_solvers[85] = runtime_df[runtime_df['percNonUVal']==85].groupby(['solver_name', 'percNonUVal']).agg({'runtime': ['mean', 'min', 'max']})\n",
    "runtime_solvers[85]"
   ]
  },
  {
   "cell_type": "code",
   "execution_count": 9,
   "metadata": {},
   "outputs": [
    {
     "data": {
      "text/html": [
       "<div>\n",
       "<style scoped>\n",
       "    .dataframe tbody tr th:only-of-type {\n",
       "        vertical-align: middle;\n",
       "    }\n",
       "\n",
       "    .dataframe tbody tr th {\n",
       "        vertical-align: top;\n",
       "    }\n",
       "\n",
       "    .dataframe thead tr th {\n",
       "        text-align: left;\n",
       "    }\n",
       "\n",
       "    .dataframe thead tr:last-of-type th {\n",
       "        text-align: right;\n",
       "    }\n",
       "</style>\n",
       "<table border=\"1\" class=\"dataframe\">\n",
       "  <thead>\n",
       "    <tr>\n",
       "      <th></th>\n",
       "      <th></th>\n",
       "      <th colspan=\"3\" halign=\"left\">runtime</th>\n",
       "    </tr>\n",
       "    <tr>\n",
       "      <th></th>\n",
       "      <th></th>\n",
       "      <th>mean</th>\n",
       "      <th>min</th>\n",
       "      <th>max</th>\n",
       "    </tr>\n",
       "    <tr>\n",
       "      <th>solver_name</th>\n",
       "      <th>percNonUVal</th>\n",
       "      <th></th>\n",
       "      <th></th>\n",
       "      <th></th>\n",
       "    </tr>\n",
       "  </thead>\n",
       "  <tbody>\n",
       "    <tr>\n",
       "      <th>Gurobi</th>\n",
       "      <th>85</th>\n",
       "      <td>6.739545</td>\n",
       "      <td>1.344406</td>\n",
       "      <td>10.516675</td>\n",
       "    </tr>\n",
       "    <tr>\n",
       "      <th>Mosek</th>\n",
       "      <th>85</th>\n",
       "      <td>119.600496</td>\n",
       "      <td>12.524381</td>\n",
       "      <td>192.748684</td>\n",
       "    </tr>\n",
       "  </tbody>\n",
       "</table>\n",
       "</div>"
      ],
      "text/plain": [
       "                            runtime                       \n",
       "                               mean        min         max\n",
       "solver_name percNonUVal                                   \n",
       "Gurobi      85             6.739545   1.344406   10.516675\n",
       "Mosek       85           119.600496  12.524381  192.748684"
      ]
     },
     "execution_count": 9,
     "metadata": {},
     "output_type": "execute_result"
    }
   ],
   "source": [
    "runtime_comparison[85] = runtime_solvers[85]/runtime_ADMM[85]\n",
    "runtime_comparison[85]"
   ]
  },
  {
   "cell_type": "markdown",
   "metadata": {},
   "source": [
    "## 10% Penetration Rate "
   ]
  },
  {
   "cell_type": "code",
   "execution_count": 10,
   "metadata": {},
   "outputs": [
    {
     "data": {
      "text/html": [
       "<div>\n",
       "<style scoped>\n",
       "    .dataframe tbody tr th:only-of-type {\n",
       "        vertical-align: middle;\n",
       "    }\n",
       "\n",
       "    .dataframe tbody tr th {\n",
       "        vertical-align: top;\n",
       "    }\n",
       "\n",
       "    .dataframe thead tr th {\n",
       "        text-align: left;\n",
       "    }\n",
       "\n",
       "    .dataframe thead tr:last-of-type th {\n",
       "        text-align: right;\n",
       "    }\n",
       "</style>\n",
       "<table border=\"1\" class=\"dataframe\">\n",
       "  <thead>\n",
       "    <tr>\n",
       "      <th></th>\n",
       "      <th></th>\n",
       "      <th colspan=\"3\" halign=\"left\">runtime</th>\n",
       "    </tr>\n",
       "    <tr>\n",
       "      <th></th>\n",
       "      <th></th>\n",
       "      <th>mean</th>\n",
       "      <th>min</th>\n",
       "      <th>max</th>\n",
       "    </tr>\n",
       "    <tr>\n",
       "      <th>solver_name</th>\n",
       "      <th>percNonUVal</th>\n",
       "      <th></th>\n",
       "      <th></th>\n",
       "      <th></th>\n",
       "    </tr>\n",
       "  </thead>\n",
       "  <tbody>\n",
       "    <tr>\n",
       "      <th>Gurobi</th>\n",
       "      <th>90</th>\n",
       "      <td>2.715929</td>\n",
       "      <td>0.732031</td>\n",
       "      <td>5.164594</td>\n",
       "    </tr>\n",
       "    <tr>\n",
       "      <th>Mosek</th>\n",
       "      <th>90</th>\n",
       "      <td>69.505481</td>\n",
       "      <td>10.610782</td>\n",
       "      <td>169.411075</td>\n",
       "    </tr>\n",
       "  </tbody>\n",
       "</table>\n",
       "</div>"
      ],
      "text/plain": [
       "                           runtime                       \n",
       "                              mean        min         max\n",
       "solver_name percNonUVal                                  \n",
       "Gurobi      90            2.715929   0.732031    5.164594\n",
       "Mosek       90           69.505481  10.610782  169.411075"
      ]
     },
     "execution_count": 10,
     "metadata": {},
     "output_type": "execute_result"
    }
   ],
   "source": [
    "runtime_solvers[90] = runtime_df[runtime_df['percNonUVal']==90].groupby(['solver_name', 'percNonUVal']).agg({'runtime': ['mean', 'min', 'max']})\n",
    "runtime_solvers[90]"
   ]
  },
  {
   "cell_type": "code",
   "execution_count": 11,
   "metadata": {
    "scrolled": true
   },
   "outputs": [
    {
     "data": {
      "text/html": [
       "<div>\n",
       "<style scoped>\n",
       "    .dataframe tbody tr th:only-of-type {\n",
       "        vertical-align: middle;\n",
       "    }\n",
       "\n",
       "    .dataframe tbody tr th {\n",
       "        vertical-align: top;\n",
       "    }\n",
       "\n",
       "    .dataframe thead tr th {\n",
       "        text-align: left;\n",
       "    }\n",
       "\n",
       "    .dataframe thead tr:last-of-type th {\n",
       "        text-align: right;\n",
       "    }\n",
       "</style>\n",
       "<table border=\"1\" class=\"dataframe\">\n",
       "  <thead>\n",
       "    <tr>\n",
       "      <th></th>\n",
       "      <th></th>\n",
       "      <th colspan=\"3\" halign=\"left\">runtime</th>\n",
       "    </tr>\n",
       "    <tr>\n",
       "      <th></th>\n",
       "      <th></th>\n",
       "      <th>mean</th>\n",
       "      <th>min</th>\n",
       "      <th>max</th>\n",
       "    </tr>\n",
       "    <tr>\n",
       "      <th>solver_name</th>\n",
       "      <th>percNonUVal</th>\n",
       "      <th></th>\n",
       "      <th></th>\n",
       "      <th></th>\n",
       "    </tr>\n",
       "  </thead>\n",
       "  <tbody>\n",
       "    <tr>\n",
       "      <th>Gurobi</th>\n",
       "      <th>90</th>\n",
       "      <td>2.282293</td>\n",
       "      <td>0.615152</td>\n",
       "      <td>4.339995</td>\n",
       "    </tr>\n",
       "    <tr>\n",
       "      <th>Mosek</th>\n",
       "      <th>90</th>\n",
       "      <td>58.407968</td>\n",
       "      <td>8.916624</td>\n",
       "      <td>142.362248</td>\n",
       "    </tr>\n",
       "  </tbody>\n",
       "</table>\n",
       "</div>"
      ],
      "text/plain": [
       "                           runtime                      \n",
       "                              mean       min         max\n",
       "solver_name percNonUVal                                 \n",
       "Gurobi      90            2.282293  0.615152    4.339995\n",
       "Mosek       90           58.407968  8.916624  142.362248"
      ]
     },
     "execution_count": 11,
     "metadata": {},
     "output_type": "execute_result"
    }
   ],
   "source": [
    "runtime_comparison[90] = runtime_solvers[90]/runtime_ADMM[90]\n",
    "runtime_comparison[90]"
   ]
  },
  {
   "cell_type": "markdown",
   "metadata": {},
   "source": [
    "## 5% Penetration Rate "
   ]
  },
  {
   "cell_type": "code",
   "execution_count": 12,
   "metadata": {},
   "outputs": [
    {
     "data": {
      "text/html": [
       "<div>\n",
       "<style scoped>\n",
       "    .dataframe tbody tr th:only-of-type {\n",
       "        vertical-align: middle;\n",
       "    }\n",
       "\n",
       "    .dataframe tbody tr th {\n",
       "        vertical-align: top;\n",
       "    }\n",
       "\n",
       "    .dataframe thead tr th {\n",
       "        text-align: left;\n",
       "    }\n",
       "\n",
       "    .dataframe thead tr:last-of-type th {\n",
       "        text-align: right;\n",
       "    }\n",
       "</style>\n",
       "<table border=\"1\" class=\"dataframe\">\n",
       "  <thead>\n",
       "    <tr>\n",
       "      <th></th>\n",
       "      <th></th>\n",
       "      <th colspan=\"3\" halign=\"left\">runtime</th>\n",
       "    </tr>\n",
       "    <tr>\n",
       "      <th></th>\n",
       "      <th></th>\n",
       "      <th>mean</th>\n",
       "      <th>min</th>\n",
       "      <th>max</th>\n",
       "    </tr>\n",
       "    <tr>\n",
       "      <th>solver_name</th>\n",
       "      <th>percNonUVal</th>\n",
       "      <th></th>\n",
       "      <th></th>\n",
       "      <th></th>\n",
       "    </tr>\n",
       "  </thead>\n",
       "  <tbody>\n",
       "    <tr>\n",
       "      <th>Gurobi</th>\n",
       "      <th>95</th>\n",
       "      <td>1.040125</td>\n",
       "      <td>0.277789</td>\n",
       "      <td>1.811586</td>\n",
       "    </tr>\n",
       "    <tr>\n",
       "      <th>Mosek</th>\n",
       "      <th>95</th>\n",
       "      <td>1.942221</td>\n",
       "      <td>1.425819</td>\n",
       "      <td>2.124024</td>\n",
       "    </tr>\n",
       "  </tbody>\n",
       "</table>\n",
       "</div>"
      ],
      "text/plain": [
       "                          runtime                    \n",
       "                             mean       min       max\n",
       "solver_name percNonUVal                              \n",
       "Gurobi      95           1.040125  0.277789  1.811586\n",
       "Mosek       95           1.942221  1.425819  2.124024"
      ]
     },
     "execution_count": 12,
     "metadata": {},
     "output_type": "execute_result"
    }
   ],
   "source": [
    "runtime_solvers[95] = runtime_df[runtime_df['percNonUVal']==95].groupby(['solver_name', 'percNonUVal']).agg({'runtime': ['mean', 'min', 'max']})\n",
    "runtime_solvers[95]"
   ]
  },
  {
   "cell_type": "code",
   "execution_count": 13,
   "metadata": {
    "scrolled": true
   },
   "outputs": [
    {
     "data": {
      "text/html": [
       "<div>\n",
       "<style scoped>\n",
       "    .dataframe tbody tr th:only-of-type {\n",
       "        vertical-align: middle;\n",
       "    }\n",
       "\n",
       "    .dataframe tbody tr th {\n",
       "        vertical-align: top;\n",
       "    }\n",
       "\n",
       "    .dataframe thead tr th {\n",
       "        text-align: left;\n",
       "    }\n",
       "\n",
       "    .dataframe thead tr:last-of-type th {\n",
       "        text-align: right;\n",
       "    }\n",
       "</style>\n",
       "<table border=\"1\" class=\"dataframe\">\n",
       "  <thead>\n",
       "    <tr>\n",
       "      <th></th>\n",
       "      <th></th>\n",
       "      <th colspan=\"3\" halign=\"left\">runtime</th>\n",
       "    </tr>\n",
       "    <tr>\n",
       "      <th></th>\n",
       "      <th></th>\n",
       "      <th>mean</th>\n",
       "      <th>min</th>\n",
       "      <th>max</th>\n",
       "    </tr>\n",
       "    <tr>\n",
       "      <th>solver_name</th>\n",
       "      <th>percNonUVal</th>\n",
       "      <th></th>\n",
       "      <th></th>\n",
       "      <th></th>\n",
       "    </tr>\n",
       "  </thead>\n",
       "  <tbody>\n",
       "    <tr>\n",
       "      <th>Gurobi</th>\n",
       "      <th>95</th>\n",
       "      <td>1.507428</td>\n",
       "      <td>0.402592</td>\n",
       "      <td>2.625488</td>\n",
       "    </tr>\n",
       "    <tr>\n",
       "      <th>Mosek</th>\n",
       "      <th>95</th>\n",
       "      <td>2.814813</td>\n",
       "      <td>2.066404</td>\n",
       "      <td>3.078296</td>\n",
       "    </tr>\n",
       "  </tbody>\n",
       "</table>\n",
       "</div>"
      ],
      "text/plain": [
       "                          runtime                    \n",
       "                             mean       min       max\n",
       "solver_name percNonUVal                              \n",
       "Gurobi      95           1.507428  0.402592  2.625488\n",
       "Mosek       95           2.814813  2.066404  3.078296"
      ]
     },
     "execution_count": 13,
     "metadata": {},
     "output_type": "execute_result"
    }
   ],
   "source": [
    "runtime_comparison[95] = runtime_solvers[95]/runtime_ADMM[95]\n",
    "runtime_comparison[95]"
   ]
  },
  {
   "cell_type": "markdown",
   "metadata": {},
   "source": [
    "# Plot"
   ]
  },
  {
   "cell_type": "code",
   "execution_count": 16,
   "metadata": {},
   "outputs": [],
   "source": [
    "plot_dict = {}\n",
    "x_axis = sorted(percNonUVal_list, reverse=True)\n",
    "for solver_name in solver_list: \n",
    "    plot_dict[solver_name] = []\n",
    "    for percNonUVal in x_axis:\n",
    "        plot_dict[solver_name].append(runtime_comparison[percNonUVal]['runtime']['mean'][solver_name].item())"
   ]
  },
  {
   "cell_type": "code",
   "execution_count": 19,
   "metadata": {},
   "outputs": [
    {
     "data": {
      "image/png": "[encoded data removed]",
      "text/plain": [
       "<Figure size 864x576 with 1 Axes>"
      ]
     },
     "metadata": {
      "needs_background": "light"
     },
     "output_type": "display_data"
    },
    {
     "data": {
      "image/png": "[encoded data removed]",
      "text/plain": [
       "<Figure size 864x576 with 1 Axes>"
      ]
     },
     "metadata": {
      "needs_background": "light"
     },
     "output_type": "display_data"
    }
   ],
   "source": [
    "plot_execution_time_comparison(data_dict = plot_dict, \n",
    "                               percNonUVal_list = x_axis, \n",
    "                               blueBack = True, \n",
    "                               large_size = False, \n",
    "                               fontsize = 28)\n",
    "plot_execution_time_comparison(data_dict = plot_dict, \n",
    "                               percNonUVal_list = x_axis, \n",
    "                               blueBack = False, \n",
    "                               large_size = False, \n",
    "                               fontsize = 28)"
   ]
  },
  {
   "cell_type": "code",
   "execution_count": null,
   "metadata": {},
   "outputs": [],
   "source": []
  }
 ],
 "metadata": {
  "kernelspec": {
   "display_name": "Python 3",
   "language": "python",
   "name": "python3"
  },
  "language_info": {
   "codemirror_mode": {
    "name": "ipython",
    "version": 3
   },
   "file_extension": ".py",
   "mimetype": "text/x-python",
   "name": "python",
   "nbconvert_exporter": "python",
   "pygments_lexer": "ipython3",
   "version": "3.8.3"
  }
 },
 "nbformat": 4,
 "nbformat_minor": 4
}
